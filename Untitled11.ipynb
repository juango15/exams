{
  "nbformat": 4,
  "nbformat_minor": 0,
  "metadata": {
    "colab": {
      "provenance": [],
      "authorship_tag": "ABX9TyOVkxjCbw4BFDxNCObEslYV",
      "include_colab_link": true
    },
    "kernelspec": {
      "name": "python3",
      "display_name": "Python 3"
    },
    "language_info": {
      "name": "python"
    }
  },
  "cells": [
    {
      "cell_type": "markdown",
      "metadata": {
        "id": "view-in-github",
        "colab_type": "text"
      },
      "source": [
        "<a href=\"https://colab.research.google.com/github/juango15/exams/blob/main/Untitled11.ipynb\" target=\"_parent\"><img src=\"https://colab.research.google.com/assets/colab-badge.svg\" alt=\"Open In Colab\"/></a>"
      ]
    },
    {
      "cell_type": "markdown",
      "source": [
        "# Juan Pablo Gonzalez\n",
        "### ID: 000541756"
      ],
      "metadata": {
        "id": "_vecznJ6Ifgk"
      }
    },
    {
      "cell_type": "code",
      "source": [
        "import random\n",
        "import time\n",
        "from IPython.display import clear_output\n",
        "\n",
        "# Matriz\n",
        "N = int(input(\"Seleccione el tamaño de la matriz (NxN): \"))\n",
        "while N < 4:\n",
        "  N = int(input(\"Introduzca un número mayor por favor: \"))\n",
        "columns = N\n",
        "rows = N\n",
        "\n",
        "options = ['1', '2', '3', 'A', 'B', 'C', '*', '+', '-']\n",
        "celds = [[random.choice(options) for i in range(columns)] for i in range(rows)]\n",
        "\n",
        "def show_celds(celds):\n",
        "  for i in range(len(celds)):\n",
        "    for j in range(len(celds[i])):\n",
        "      print(celds[i][j], end=\"  \")\n",
        "    print(\"\\n\")\n",
        "\n",
        "def jugar():\n",
        "  time.sleep(2)\n",
        "  clear_output()\n",
        "\n",
        "  show_celds(celds)\n",
        "\n",
        "  # Ocultar\n",
        "  celds_oc = [row[:] for row in celds]\n",
        "  time.sleep(3)\n",
        "  clear_output()\n",
        "  time.sleep(2)\n",
        "\n",
        "  a = random.randint(0, N-1)\n",
        "  b = random.randint(0, N-1)\n",
        "  celds_oc[a][b] = \"|?|\"\n",
        "\n",
        "  print(\"Tienes 3 intentos para introducir el caracter correcto.\")\n",
        "  print(\"Recuerda que este puede ser: 1, 2, 3, A, B, C, *, +, -.\")\n",
        "  print(\"Si vas a poner una letra no olvides ponerla en mayúscula.\")\n",
        "  show_celds(celds_oc)\n",
        "\n",
        "  # responder\n",
        "  inten = 3\n",
        "  while inten > 0:\n",
        "    R = input()\n",
        "    if R == celds[a][b]:\n",
        "      print(\"¡Lo lograste!\")\n",
        "      break\n",
        "    else:\n",
        "      inten -= 1\n",
        "      if inten > 0:\n",
        "        print(\"Incorrecto. Te quedan\", inten, \"intentos.\")\n",
        "      else:\n",
        "        print(\"Te has quedado sin intentos. La respuesta era:\", celds[a][b])\n",
        "\n",
        "  return input(\"¿Quieres jugar nuevamente? (s/n): \") == \"s\"\n",
        "\n",
        "while jugar():\n",
        "  pass\n",
        "\n"
      ],
      "metadata": {
        "id": "yUGyiyDNRgCN",
        "outputId": "7c60930d-92cc-42ab-b06d-da7d108726ed",
        "colab": {
          "base_uri": "https://localhost:8080/"
        }
      },
      "execution_count": null,
      "outputs": [
        {
          "output_type": "stream",
          "name": "stdout",
          "text": [
            "Tienes 3 intentos para introducir el caracter correcto.\n",
            "Recuerda que este puede ser: 1, 2, 3, A, B, C, *, +, -.\n",
            "Si vas a poner una letra no olvides ponerla en mayúscula.\n",
            "B  2  3  B  \n",
            "\n",
            "|?|  A  *  2  \n",
            "\n",
            "A  B  1  +  \n",
            "\n",
            "C  *  A  2  \n",
            "\n"
          ]
        }
      ]
    }
  ]
}